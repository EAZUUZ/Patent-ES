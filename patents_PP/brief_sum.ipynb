{
 "cells": [
  {
   "cell_type": "code",
   "execution_count": 4,
   "metadata": {},
   "outputs": [],
   "source": [
    "# import pandas as pd\n",
    "# file = 'brief_summary/g_brf_sum_text_1976.tsv'\n",
    "# df = pd.read_csv(file, sep='\\t')\n",
    "# df.head()\n",
    "# df['summary_text'][0]\n"
   ]
  },
  {
   "cell_type": "code",
   "execution_count": 1,
   "metadata": {},
   "outputs": [],
   "source": [
    "# import os\n",
    "# import csv\n",
    "# import sys\n",
    "# import pandas as pd\n",
    "\n",
    "# csv.field_size_limit(sys.maxsize)\n",
    "\n",
    "# folder = 'brief_summary/'\n",
    "\n",
    "# tsv_files = [f for f in os.listdir(folder) if f.endswith('.tsv')]\n",
    "# output_file = 'ALL_brief_summary.tsv'\n",
    "# dfs = []\n",
    "# chunksize = 10**6\n",
    "# is_first_chunk = True"
   ]
  },
  {
   "cell_type": "code",
   "execution_count": 2,
   "metadata": {},
   "outputs": [],
   "source": [
    "# for tsv_file in tsv_files:\n",
    "#     file_path = os.path.join(folder, tsv_file)\n",
    "#     try:\n",
    "#         # Read the TSV file\n",
    "#         df = pd.read_csv(file_path, sep='\\t', engine='python', on_bad_lines='warn')\n",
    "        \n",
    "#         # Write to output file, only writing header for the first file\n",
    "#         df.to_csv(output_file, sep='\\t', index=False, mode='a', header=not os.path.exists(output_file))\n",
    "        \n",
    "#         print(f'{tsv_file} done')\n",
    "#     except Exception as e:\n",
    "#         print(f\"Error reading {tsv_file}: {e}\")\n",
    "\n",
    "# print('All done')\n"
   ]
  },
  {
   "cell_type": "code",
   "execution_count": 3,
   "metadata": {},
   "outputs": [],
   "source": [
    "import os\n",
    "import pandas as pd\n",
    "import tempfile\n",
    "import shutil\n",
    "\n",
    "def process_tsv_files(folder, output_file, destination_folder=None):\n",
    "    # Create a temporary directory for intermediate processing\n",
    "    with tempfile.TemporaryDirectory() as temp_dir:\n",
    "        try:\n",
    "            # Get list of TSV files\n",
    "            tsv_files = [f for f in os.listdir(folder) if f.endswith('.tsv')]\n",
    "            \n",
    "            # Process each TSV file\n",
    "            for tsv_file in tsv_files:\n",
    "                file_path = os.path.join(folder, tsv_file)\n",
    "                try:\n",
    "                    # Read the TSV file\n",
    "                    df = pd.read_csv(file_path, sep='\\t', engine='python', on_bad_lines='warn')\n",
    "                    \n",
    "                    # Write to output file, only writing header for the first file\n",
    "                    df.to_csv(output_file, sep='\\t', index=False, mode='a', header=not os.path.exists(output_file))\n",
    "                    \n",
    "                    print(f'{tsv_file} done')\n",
    "                except Exception as e:\n",
    "                    print(f\"Error reading {tsv_file}: {e}\")\n",
    "            \n",
    "            # If a destination folder is specified, move the output file\n",
    "            if destination_folder:\n",
    "                os.makedirs(destination_folder, exist_ok=True)\n",
    "                shutil.move(output_file, os.path.join(destination_folder, os.path.basename(output_file)))\n",
    "                print(f'Output file moved to {destination_folder}')\n",
    "        \n",
    "        except Exception as e:\n",
    "            print(f\"An error occurred during processing: {e}\")\n",
    "    \n",
    "    print('All done')\n",
    "\n",
    "# Example usage\n",
    "# process_tsv_files('/path/to/input/folder', '/path/to/output/file.tsv', '/path/to/destination/folder')"
   ]
  },
  {
   "cell_type": "code",
   "execution_count": 4,
   "metadata": {},
   "outputs": [
    {
     "name": "stdout",
     "output_type": "stream",
     "text": [
      "g_brf_sum_text_2008.tsv done\n"
     ]
    },
    {
     "name": "stderr",
     "output_type": "stream",
     "text": [
      "Skipping line 79963: unexpected end of data\n"
     ]
    },
    {
     "name": "stdout",
     "output_type": "stream",
     "text": [
      "g_brf_sum_text_1996.tsv done\n",
      "g_brf_sum_text_1991.tsv done\n",
      "g_brf_sum_text_2014.tsv done\n",
      "g_brf_sum_text_2000.tsv done\n",
      "g_brf_sum_text_2012.tsv done\n",
      "g_brf_sum_text_2009.tsv done\n",
      "g_brf_sum_text_2022.tsv done\n",
      "g_brf_sum_text_1990.tsv done\n",
      "g_brf_sum_text_2010.tsv done\n",
      "g_brf_sum_text_1994.tsv done\n",
      "g_brf_sum_text_1978.tsv done\n",
      "g_brf_sum_text_2019.tsv done\n"
     ]
    },
    {
     "name": "stderr",
     "output_type": "stream",
     "text": [
      "Skipping line 105573: unexpected end of data\n"
     ]
    },
    {
     "name": "stdout",
     "output_type": "stream",
     "text": [
      "g_brf_sum_text_1997.tsv done\n",
      "g_brf_sum_text_1988.tsv done\n",
      "g_brf_sum_text_2005.tsv done\n",
      "g_brf_sum_text_2017.tsv done\n",
      "g_brf_sum_text_1987.tsv done\n"
     ]
    },
    {
     "name": "stderr",
     "output_type": "stream",
     "text": [
      "Skipping line 111597: unexpected end of data\n"
     ]
    },
    {
     "name": "stdout",
     "output_type": "stream",
     "text": [
      "g_brf_sum_text_1998.tsv done\n",
      "g_brf_sum_text_2001.tsv done\n",
      "g_brf_sum_text_2018.tsv done\n",
      "g_brf_sum_text_2015.tsv done\n",
      "g_brf_sum_text_2020.tsv done\n",
      "g_brf_sum_text_1976.tsv done\n",
      "g_brf_sum_text_1999.tsv done\n"
     ]
    },
    {
     "name": "stderr",
     "output_type": "stream",
     "text": [
      "Skipping line 27234: unexpected end of data\n"
     ]
    },
    {
     "name": "stdout",
     "output_type": "stream",
     "text": [
      "g_brf_sum_text_1995.tsv done\n",
      "g_brf_sum_text_1979.tsv done\n",
      "g_brf_sum_text_1977.tsv done\n",
      "g_brf_sum_text_2013.tsv done\n",
      "g_brf_sum_text_2023.tsv done\n",
      "g_brf_sum_text_2024.tsv done\n",
      "g_brf_sum_text_1981.tsv done\n",
      "g_brf_sum_text_1989.tsv done\n",
      "g_brf_sum_text_2011.tsv done\n",
      "g_brf_sum_text_2006.tsv done\n",
      "g_brf_sum_text_1993.tsv done\n",
      "g_brf_sum_text_1986.tsv done\n",
      "g_brf_sum_text_2002.tsv done\n",
      "g_brf_sum_text_1984.tsv done\n",
      "g_brf_sum_text_2021.tsv done\n",
      "g_brf_sum_text_1992.tsv done\n",
      "g_brf_sum_text_2003.tsv done\n",
      "g_brf_sum_text_1982.tsv done\n",
      "g_brf_sum_text_1980.tsv done\n",
      "g_brf_sum_text_2007.tsv done\n",
      "g_brf_sum_text_1985.tsv done\n",
      "g_brf_sum_text_2016.tsv done\n",
      "g_brf_sum_text_2004.tsv done\n",
      "g_brf_sum_text_1983.tsv done\n",
      "Output file moved to ./\n",
      "All done\n"
     ]
    }
   ],
   "source": [
    "process_tsv_files('brief_summary/', 'ALL_brief_summary.tsv', './')"
   ]
  },
  {
   "cell_type": "code",
   "execution_count": null,
   "metadata": {},
   "outputs": [],
   "source": []
  }
 ],
 "metadata": {
  "kernelspec": {
   "display_name": "Python 3",
   "language": "python",
   "name": "python3"
  },
  "language_info": {
   "codemirror_mode": {
    "name": "ipython",
    "version": 3
   },
   "file_extension": ".py",
   "mimetype": "text/x-python",
   "name": "python",
   "nbconvert_exporter": "python",
   "pygments_lexer": "ipython3",
   "version": "3.12.3"
  }
 },
 "nbformat": 4,
 "nbformat_minor": 2
}
